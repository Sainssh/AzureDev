{
 "cells": [
  {
   "cell_type": "code",
   "execution_count": 6,
   "metadata": {},
   "outputs": [],
   "source": [
    "import cv2"
   ]
  },
  {
   "cell_type": "code",
   "execution_count": 75,
   "metadata": {},
   "outputs": [
    {
     "name": "stderr",
     "output_type": "stream",
     "text": [
      "<>:7: SyntaxWarning: \"is\" with a literal. Did you mean \"==\"?\n",
      "<>:7: SyntaxWarning: \"is\" with a literal. Did you mean \"==\"?\n",
      "C:\\Users\\acer\\AppData\\Local\\Temp\\ipykernel_17704\\3164684681.py:7: SyntaxWarning: \"is\" with a literal. Did you mean \"==\"?\n",
      "  if faces is ():\n"
     ]
    },
    {
     "name": "stdout",
     "output_type": "stream",
     "text": [
      "Collection samples is completed\n"
     ]
    }
   ],
   "source": [
    "\n",
    "def genrate_dataset():\n",
    "    face_classifier=cv2.CascadeClassifier(\"haarcascade_frontalface_alt.xml\");\n",
    "    def face_cropper(img):\n",
    "        gray=cv2.cvtColor(img,cv2.COLOR_BGR2GRAY)\n",
    "        faces=face_classifier.detectMultiScale(gray,1.3,5)\n",
    "\n",
    "        if faces is ():\n",
    "            return None\n",
    "        for (x,y,w,h) in faces:\n",
    "            cropped_Face=img[y:y+h,x:x+w]\n",
    "        return cropped_Face\n",
    "    cap=cv2.VideoCapture(0)\n",
    "    img_id=1\n",
    "\n",
    "    while True:\n",
    "        ret,Fram=cap.read()\n",
    "        if face_cropper(Fram) is not    None:\n",
    "            img_id+=1\n",
    "            face=cv2.resize(face_cropper(Fram),(200,200))\n",
    "            face=cv2.cvtColor(face,cv2.COLOR_BGR2GRAY)\n",
    "            file_name_path=\"data/\"+\"second.\"+str(img_id)+\".jpg\"\n",
    "            #file_name_path=\"Visulaization/\"+str(img_id)+'.jpg'\n",
    "            cv2.imwrite(file_name_path,face)\n",
    "            cv2.putText(face,str(img_id),(50,50),cv2.FONT_HERSHEY_COMPLEX,1,(0,255,0),2)\n",
    "\n",
    "            cv2.imshow(\"CroppedFace\",face)\n",
    "            if cv2.waitKey(1)==13 or int(img_id)==1000:\n",
    "                break\n",
    "    \n",
    "    cap.release()\n",
    "    cv2.destroyAllWindows()\n",
    "    print(\"Collection samples is completed\")\n",
    "\n",
    "genrate_dataset()\n",
    "\n"
   ]
  },
  {
   "cell_type": "code",
   "execution_count": 88,
   "metadata": {},
   "outputs": [
    {
     "name": "stderr",
     "output_type": "stream",
     "text": [
      "<>:7: SyntaxWarning: \"is\" with a literal. Did you mean \"==\"?\n",
      "<>:7: SyntaxWarning: \"is\" with a literal. Did you mean \"==\"?\n",
      "C:\\Users\\acer\\AppData\\Local\\Temp\\ipykernel_17704\\88685276.py:7: SyntaxWarning: \"is\" with a literal. Did you mean \"==\"?\n",
      "  if faces is ():\n"
     ]
    },
    {
     "name": "stdout",
     "output_type": "stream",
     "text": [
      "Collection samples is completed\n"
     ]
    }
   ],
   "source": [
    "def capturePhoto():\n",
    "    face_classifier=cv2.CascadeClassifier(\"haarcascade_frontalface_alt.xml\");\n",
    "    def face_cropper(img):\n",
    "        gray=cv2.cvtColor(img,cv2.COLOR_BGR2GRAY)\n",
    "        faces=face_classifier.detectMultiScale(gray,1.3,5)\n",
    "\n",
    "        if faces is ():\n",
    "            return None\n",
    "        for (x,y,w,h) in faces:\n",
    "            cropped_Face=img[y:y+h,x:x+w]\n",
    "        return cropped_Face\n",
    "    cap=cv2.VideoCapture(0)\n",
    "    img_id=1\n",
    "\n",
    "    while True:\n",
    "        ret,Fram=cap.read()\n",
    "        if face_cropper(Fram) is not None:\n",
    "            img_id+=1\n",
    "            face=cv2.resize(face_cropper(Fram),(200,200))\n",
    "            face=cv2.cvtColor(face,cv2.COLOR_BGR2GRAY)\n",
    "            #file_name_path=\"data/\"+\"first.\"+str(img_id)+\".jpg\"\n",
    "            file_name_path=\"Visulaization/\"+str(img_id)+'.jpg'\n",
    "            cv2.imwrite(file_name_path,face)\n",
    "            cv2.putText(face,str(img_id),(50,50),cv2.FONT_HERSHEY_COMPLEX,1,(0,255,0),2)\n",
    "\n",
    "            cv2.imshow(\"CroppedFace\",face)\n",
    "            if cv2.waitKey(1)==13 or int(img_id)==2:\n",
    "                break\n",
    "    \n",
    "    cap.release()\n",
    "    cv2.destroyAllWindows()\n",
    "    print(\"Collection samples is completed\")\n",
    "capturePhoto()        \n"
   ]
  },
  {
   "cell_type": "code",
   "execution_count": 3,
   "metadata": {},
   "outputs": [],
   "source": [
    "##CREATE LABEL"
   ]
  },
  {
   "cell_type": "code",
   "execution_count": 92,
   "metadata": {},
   "outputs": [],
   "source": [
    "import numpy as np\n",
    "def my_label(image_name):\n",
    "    name=image_name.split('.')[-3]\n",
    "\n",
    "    if name==\"first\":\n",
    "        return np.array([1,0,0])\n",
    "    elif name==\"second\":\n",
    "        return np.array([0,1,0])\n",
    "    elif name==\"third\":\n",
    "        return np.array([0,0,1])"
   ]
  },
  {
   "cell_type": "code",
   "execution_count": 93,
   "metadata": {},
   "outputs": [],
   "source": [
    "import os \n",
    "from random import shuffle\n",
    "from tqdm import tqdm"
   ]
  },
  {
   "cell_type": "code",
   "execution_count": 94,
   "metadata": {},
   "outputs": [],
   "source": [
    "def my_data():\n",
    "    data=[]\n",
    "\n",
    "    for img in tqdm(os.listdir(\"data\")):\n",
    "        path=os.path.join(\"data\",img)\n",
    "        img_data=cv2.imread(path,cv2.IMREAD_GRAYSCALE)\n",
    "        img_data=cv2.resize(img_data,(50,50))\n",
    "        data.append([np.array(img_data),my_label(img)])\n",
    "    shuffle(data)\n",
    "    return data"
   ]
  },
  {
   "cell_type": "code",
   "execution_count": 95,
   "metadata": {},
   "outputs": [
    {
     "name": "stderr",
     "output_type": "stream",
     "text": [
      "100%|██████████| 1998/1998 [00:00<00:00, 2338.34it/s]\n"
     ]
    }
   ],
   "source": [
    "data=my_data()\n"
   ]
  },
  {
   "cell_type": "code",
   "execution_count": 96,
   "metadata": {},
   "outputs": [
    {
     "name": "stdout",
     "output_type": "stream",
     "text": [
      "(700, 50, 50, 1)\n",
      "(1298, 50, 50, 1)\n"
     ]
    }
   ],
   "source": [
    "train=data[:700]\n",
    "test=data[700:]\n",
    "X_train=np.array([i[0] for i in train]).reshape(-1,50,50,1)\n",
    "print(X_train.shape)\n",
    "\n",
    "Y_train=[i[1] for i in train]\n",
    "X_test=np.array([i[0] for i in test]).reshape(-1,50,50,1)\n",
    "\n",
    "print(X_test.shape)\n",
    "Y_test=[i[1] for i in train]"
   ]
  },
  {
   "cell_type": "code",
   "execution_count": 97,
   "metadata": {},
   "outputs": [],
   "source": [
    "import tensorflow as tf\n",
    "import tflearn \n",
    "from tflearn.layers.conv import conv_2d, max_pool_2d\n",
    "from tflearn.layers.core import input_data,dropout,fully_connected\n",
    "from tflearn.layers.estimator import regression"
   ]
  },
  {
   "cell_type": "code",
   "execution_count": 98,
   "metadata": {},
   "outputs": [
    {
     "name": "stdout",
     "output_type": "stream",
     "text": [
      "Training Step: 131  | total loss: \u001b[1m\u001b[32m0.29161\u001b[0m\u001b[0m | time: 0.928s\n",
      "| Adam | epoch: 012 | loss: 0.29161 - acc: 0.9713 -- iter: 640/700\n"
     ]
    },
    {
     "name": "stderr",
     "output_type": "stream",
     "text": [
      "Exception in thread Thread-196 (fill_feed_dict_queue):\n",
      "Traceback (most recent call last):\n",
      "  File \"c:\\Users\\acer\\AppData\\Local\\Programs\\Python\\Python310\\lib\\threading.py\", line 1009, in _bootstrap_inner\n",
      "    self.run()\n",
      "  File \"c:\\Users\\acer\\AppData\\Local\\Programs\\Python\\Python310\\lib\\threading.py\", line 946, in run\n",
      "    self._target(*self._args, **self._kwargs)\n",
      "  File \"c:\\Users\\acer\\AppData\\Local\\Programs\\Python\\Python310\\lib\\site-packages\\tflearn\\data_flow.py\", line 187, in fill_feed_dict_queue\n",
      "    data = self.retrieve_data(batch_ids)\n",
      "  File \"c:\\Users\\acer\\AppData\\Local\\Programs\\Python\\Python310\\lib\\site-packages\\tflearn\\data_flow.py\", line 222, in retrieve_data\n",
      "    utils.slice_array(self.feed_dict[key], batch_ids)\n",
      "  File \"c:\\Users\\acer\\AppData\\Local\\Programs\\Python\\Python310\\lib\\site-packages\\tflearn\\utils.py\", line 204, in slice_array\n",
      "    return X[start]\n",
      "IndexError: index 700 is out of bounds for axis 0 with size 700\n"
     ]
    },
    {
     "name": "stdout",
     "output_type": "stream",
     "text": [
      "Training Step: 132  | total loss: \u001b[1m\u001b[32m0.26337\u001b[0m\u001b[0m | time: 2.017s\n",
      "| Adam | epoch: 012 | loss: 0.26337 - acc: 0.9742 | val_loss: 1.14137 - val_acc: 0.2558 -- iter: 700/700\n",
      "--\n"
     ]
    }
   ],
   "source": [
    "tf.compat.v1.reset_default_graph()\n",
    "convnet = input_data(shape=[50,50,1])\n",
    "convnet = conv_2d(convnet, 32, 5, activation='relu')\n",
    "# 32 filters and stride=5 so that the filter will move 5 pixel or unit at a time\n",
    "convnet = max_pool_2d(convnet, 5)\n",
    "convnet = conv_2d(convnet, 64, 5, activation='relu')\n",
    "convnet = max_pool_2d(convnet, 5)\n",
    "convnet = conv_2d(convnet, 128, 5, activation='relu')\n",
    "convnet = max_pool_2d(convnet, 5)\n",
    "convnet = conv_2d(convnet, 64, 5, activation='relu')\n",
    "convnet = max_pool_2d(convnet, 5)\n",
    "convnet = conv_2d(convnet, 32, 5, activation='relu')\n",
    "convnet = max_pool_2d(convnet, 5)\n",
    "\n",
    "convnet = fully_connected(convnet, 1024, activation='relu')\n",
    "convnet = dropout(convnet, 0.8)\n",
    "convnet = fully_connected(convnet, 3, activation='softmax') #2 for two dataset\n",
    "convnet = regression(convnet, optimizer='adam', learning_rate = 0.001, loss='categorical_crossentropy')\n",
    "model = tflearn.DNN(convnet, tensorboard_verbose=1)\n",
    "model.fit(X_train, Y_train, n_epoch=12, validation_set=(X_test, Y_test), show_metric = True, run_id=\"FRS\" )\n"
   ]
  },
  {
   "cell_type": "code",
   "execution_count": 100,
   "metadata": {},
   "outputs": [],
   "source": [
    "def data_for_visulization():\n",
    "    Vdata=[]\n",
    "    for img in tqdm(os.listdir(\"Visulaization\")):\n",
    "        path=os.path.join(\"Visulaization\",img)\n",
    "        img_num=img.split('.')[0]\n",
    "        img_data=cv2.imread(path,cv2.IMREAD_GRAYSCALE)\n",
    "        img_data=cv2.resize(img_data,(50,50))\n",
    "        Vdata.append([np.array(img_data),img_num])\n",
    "    shuffle(Vdata)\n",
    "    return Vdata"
   ]
  },
  {
   "cell_type": "code",
   "execution_count": 101,
   "metadata": {},
   "outputs": [
    {
     "name": "stderr",
     "output_type": "stream",
     "text": [
      "100%|██████████| 1/1 [00:00<00:00, 999.60it/s]\n"
     ]
    }
   ],
   "source": [
    "Vdata=data_for_visulization()"
   ]
  },
  {
   "cell_type": "code",
   "execution_count": 102,
   "metadata": {},
   "outputs": [
    {
     "data": {
      "image/png": "[encoded data removed]",
      "text/plain": [
       "<Figure size 1440x1440 with 1 Axes>"
      ]
     },
     "metadata": {
      "needs_background": "light"
     },
     "output_type": "display_data"
    }
   ],
   "source": [
    "import matplotlib.pyplot as plt   # pip install matplotlib\n",
    "\n",
    "fig = plt.figure(figsize=(20,20))\n",
    "for num, data in enumerate(Vdata[:20]):\n",
    "    img_data = data[0]\n",
    "    y = fig.add_subplot(5,5, num+1)\n",
    "    image = img_data\n",
    "    data = img_data.reshape(50,50,1)\n",
    "    model_out = model.predict([data])[0]\n",
    "    label=False\n",
    "    if np.argmax(model_out) == 0:\n",
    "        my_label = 'first'\n",
    "        label=True\n",
    "    elif np.argmax(model_out) == 1:\n",
    "        my_label = 'second'\n",
    "        label=False\n",
    "    elif np.argmax(model_out) == 2:\n",
    "        my_label = 'None'\n",
    "        label=False\n",
    "    else:\n",
    "        my_label='none'\n",
    "        label=False\n",
    "        \n",
    "    y.imshow(image, cmap='gray')\n",
    "    plt.title(my_label)\n",
    "    \n",
    "    y.axes.get_xaxis().set_visible(False)\n",
    "    y.axes.get_yaxis().set_visible(False)\n",
    "plt.show()"
   ]
  },
  {
   "cell_type": "code",
   "execution_count": 103,
   "metadata": {},
   "outputs": [],
   "source": [
    "\n",
    "import tkinter as tk\n",
    "from tkinter import ttk"
   ]
  },
  {
   "cell_type": "code",
   "execution_count": 104,
   "metadata": {},
   "outputs": [],
   "source": [
    "root=tk.Tk()\n",
    "root.geometry('400x250')\n",
    "userString=tk.StringVar(root)\n",
    "passString=tk.StringVar(root)"
   ]
  },
  {
   "cell_type": "code",
   "execution_count": 105,
   "metadata": {},
   "outputs": [],
   "source": [
    "def Login():\n",
    "    label_1=tk.Label(root,text=\"Username\").place(x = 60, y =50)\n",
    "    inpUser=tk.Entry(root,width=30,textvariable=userString).place(x = 130, y = 50)\n",
    "\n",
    "    label_2=tk.Label(root,text=\"Password\").place(x = 60, y = 90)\n",
    "    inpPass=tk.Entry(root,width=30,textvariable=passString,show=\"*\").place(x = 130, y = 90)\n",
    "\n",
    "    Button=tk.Button(root,text=\"Submit\",command=getValues).place(x = 170, y = 120)"
   ]
  },
  {
   "cell_type": "code",
   "execution_count": 106,
   "metadata": {},
   "outputs": [],
   "source": [
    "def getValues():\n",
    "    userVal=userString.get()\n",
    "    passVal=passString.get()\n",
    "\n",
    "    if(userVal.rstrip()=='hello' and passVal.rstrip()=='world'):\n",
    "        print(\"Login Sucess\")\n",
    "\n",
    "        for i in root.winfo_children():\n",
    "            i.destroy()\n",
    "    \n",
    "        main_menu()\n",
    "        \n",
    "    else:\n",
    "        print(\"Failed\")"
   ]
  },
  {
   "cell_type": "code",
   "execution_count": 107,
   "metadata": {},
   "outputs": [],
   "source": [
    "clicked = tk.StringVar()\n",
    "button_var = tk.StringVar()\n",
    "button_var.set(\"Disable\")\n",
    "def disable_func():\n",
    "    if (str(button_var.get()) == 'Disable'):\n",
    "        button_var.set(\"Enable\")\n",
    "    elif (str(button_var.get()) == 'Enable'):\n",
    "        button_var.set(\"Disable\")\n",
    "\n",
    "def genrate_dataset():\n",
    "    pass\n",
    "\n",
    "def getvall():\n",
    "    print(str(clicked.get()).split(' ')[0])\n",
    "\n",
    "def main_menu():    \n",
    "    # clicked.set('5 mins')\n",
    "    \n",
    "    label_1=tk.Label(root,text=\"Interval\", anchor=tk.W).place(x = 20, y =20)\n",
    "    options = ttk.Combobox(root, textvariable = clicked)\n",
    "    options['values'] = tuple(f'{i} mins' for i in range(5, 30 + 1, 5))\n",
    "    options['state'] = 'readonly'\n",
    "    options.place(x = 80, y = 19)\n",
    "\n",
    "    button=tk.Button(root,text=\"Select\",command=getvall, width=10).place(x = 80, y = 45)\n",
    "\n",
    "\n",
    "    label_2=tk.Label(root,text=\"Add user\", anchor=tk.W).place(x = 20, y = 90)\n",
    "    button=tk.Button(root,text=\"Add\",command=genrate_dataset, width=10).place(x = 80, y = 90)\n",
    "\n",
    "    disable=tk.Label(root,text=\"Disable IR\", anchor=tk.W).place(x = 20, y = 130)\n",
    "    disable_button=tk.Button(root,command=disable_func, textvariable=button_var, width=10).place(x = 80, y = 130)"
   ]
  },
  {
   "cell_type": "code",
   "execution_count": 108,
   "metadata": {},
   "outputs": [],
   "source": [
    "Login()"
   ]
  },
  {
   "cell_type": "code",
   "execution_count": 109,
   "metadata": {},
   "outputs": [
    {
     "name": "stdout",
     "output_type": "stream",
     "text": [
      "Login Sucess\n"
     ]
    }
   ],
   "source": [
    "root.mainloop()"
   ]
  },
  {
   "cell_type": "code",
   "execution_count": null,
   "metadata": {},
   "outputs": [],
   "source": []
  }
 ],
 "metadata": {
  "interpreter": {
   "hash": "229cdfb8eedfa4964725b7eb0da8d7a63b25d97a6ab808f09bd6b506844c0629"
  },
  "kernelspec": {
   "display_name": "Python 3.10.0 64-bit",
   "language": "python",
   "name": "python3"
  },
  "language_info": {
   "codemirror_mode": {
    "name": "ipython",
    "version": 3
   },
   "file_extension": ".py",
   "mimetype": "text/x-python",
   "name": "python",
   "nbconvert_exporter": "python",
   "pygments_lexer": "ipython3",
   "version": "3.10.0"
  },
  "orig_nbformat": 4
 },
 "nbformat": 4,
 "nbformat_minor": 2
}
