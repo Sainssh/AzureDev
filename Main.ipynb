{
 "cells": [
  {
   "cell_type": "code",
   "execution_count": 768,
   "metadata": {},
   "outputs": [],
   "source": [
    "import tkinter as tk\n",
    "from tkinter import ttk\n"
   ]
  },
  {
   "cell_type": "code",
   "execution_count": 769,
   "metadata": {},
   "outputs": [],
   "source": [
    "root=tk.Tk()\n",
    "root.geometry('400x250')\n",
    "userString=tk.StringVar(root)\n",
    "passString=tk.StringVar(root)"
   ]
  },
  {
   "cell_type": "code",
   "execution_count": 770,
   "metadata": {},
   "outputs": [],
   "source": [
    "def Login():\n",
    "    label_1=tk.Label(root,text=\"Username\").place(x = 60, y =50)\n",
    "    inpUser=tk.Entry(root,width=30,textvariable=userString).place(x = 130, y = 50)\n",
    "\n",
    "    label_2=tk.Label(root,text=\"Password\").place(x = 60, y = 90)\n",
    "    inpPass=tk.Entry(root,width=30,textvariable=passString,show=\"*\").place(x = 130, y = 90)\n",
    "\n",
    "    Button=tk.Button(root,text=\"Submit\",command=getValues).place(x = 170, y = 120)"
   ]
  },
  {
   "cell_type": "code",
   "execution_count": 771,
   "metadata": {},
   "outputs": [],
   "source": [
    "def getValues():\n",
    "    userVal=userString.get()\n",
    "    passVal=passString.get()\n",
    "\n",
    "    if(userVal.rstrip()=='hello' and passVal.rstrip()=='world'):\n",
    "        print(\"Login Sucess\")\n",
    "\n",
    "        for i in root.winfo_children():\n",
    "            i.destroy()\n",
    "    \n",
    "        main_menu()\n",
    "        \n",
    "    else:\n",
    "        print(\"Failed\")\n"
   ]
  },
  {
   "cell_type": "code",
   "execution_count": 772,
   "metadata": {},
   "outputs": [],
   "source": [
    "clicked = tk.StringVar()\n",
    "button_var = tk.StringVar()\n",
    "button_var.set(\"Disable\")\n",
    "def disable_func():\n",
    "    if (str(button_var.get()) == 'Disable'):\n",
    "        button_var.set(\"Enable\")\n",
    "    elif (str(button_var.get()) == 'Enable'):\n",
    "        button_var.set(\"Disable\")\n",
    "\n",
    "def genrate_dataset():\n",
    "    pass\n",
    "\n",
    "def getvall():\n",
    "    print(str(clicked.get()).split(' ')[0])\n",
    "    \n",
    "\n",
    "def main_menu():    \n",
    "    # clicked.set('5 mins')\n",
    "    \n",
    "    label_1=tk.Label(root,text=\"Interval\", anchor=tk.W).place(x = 20, y =20)\n",
    "    options = ttk.Combobox(root, textvariable = clicked)\n",
    "    options['values'] = tuple(f'{i} mins' for i in range(5, 30 + 1, 5))\n",
    "    options['state'] = 'readonly'\n",
    "    options.place(x = 80, y = 19)\n",
    "\n",
    "    button=tk.Button(root,text=\"Select\",command=getvall, width=10).place(x = 80, y = 45)\n",
    "\n",
    "\n",
    "    label_2=tk.Label(root,text=\"Add user\", anchor=tk.W).place(x = 20, y = 90)\n",
    "    button=tk.Button(root,text=\"Add\",command=genrate_dataset, width=10).place(x = 80, y = 90)\n",
    "\n",
    "    disable=tk.Label(root,text=\"Disable IR\", anchor=tk.W).place(x = 20, y = 130)\n",
    "    disable_button=tk.Button(root,command=disable_func, textvariable=button_var, width=10).place(x = 80, y = 130)\n"
   ]
  },
  {
   "cell_type": "code",
   "execution_count": 773,
   "metadata": {},
   "outputs": [],
   "source": [
    "Login()"
   ]
  },
  {
   "cell_type": "code",
   "execution_count": 774,
   "metadata": {},
   "outputs": [
    {
     "name": "stdout",
     "output_type": "stream",
     "text": [
      "Login Sucess\n"
     ]
    }
   ],
   "source": [
    "root.mainloop()"
   ]
  },
  {
   "cell_type": "code",
   "execution_count": null,
   "metadata": {},
   "outputs": [],
   "source": []
  }
 ],
 "metadata": {
  "interpreter": {
   "hash": "229cdfb8eedfa4964725b7eb0da8d7a63b25d97a6ab808f09bd6b506844c0629"
  },
  "kernelspec": {
   "display_name": "Python 3.10.0 64-bit",
   "language": "python",
   "name": "python3"
  },
  "language_info": {
   "codemirror_mode": {
    "name": "ipython",
    "version": 3
   },
   "file_extension": ".py",
   "mimetype": "text/x-python",
   "name": "python",
   "nbconvert_exporter": "python",
   "pygments_lexer": "ipython3",
   "version": "3.10.0"
  },
  "orig_nbformat": 4
 },
 "nbformat": 4,
 "nbformat_minor": 2
}
